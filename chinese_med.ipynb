{
 "cells": [
  {
   "cell_type": "code",
   "execution_count": 51,
   "id": "4e512fe0-05e9-4b02-b785-6b9abed63cad",
   "metadata": {},
   "outputs": [],
   "source": [
    "import pandas as pd"
   ]
  },
  {
   "cell_type": "code",
   "execution_count": 92,
   "id": "de0ba924-5c7a-4526-addd-3faf8f90014d",
   "metadata": {},
   "outputs": [
    {
     "name": "stdout",
     "output_type": "stream",
     "text": [
      "b'{\"name\": \"\\xe4\\xb8\\xad\\xe6\\x96\\x87\"}'\n"
     ]
    }
   ],
   "source": [
    "# -*- coding:utf-8 -*-\n",
    "import json\n",
    "\n",
    "# JSON 中的乱码字符串\n",
    "json_str = '{\"name\": \"\\\\u4e2d\\\\u6587\"}'\n",
    "\n",
    "# 将 JSON 中的乱码字符串解码为 Unicode 码点\n",
    "unicode_str = json.loads(json_str)\n",
    "\n",
    "# 将 Unicode 码点编码为 UTF-8 字符串\n",
    "utf8_str = json.dumps(unicode_str, ensure_ascii=False).encode('utf8')\n",
    "\n",
    "print(utf8_str)"
   ]
  },
  {
   "cell_type": "code",
   "execution_count": 111,
   "id": "5d233e35-f68b-482d-b746-23a42228fd94",
   "metadata": {},
   "outputs": [
    {
     "name": "stdout",
     "output_type": "stream",
     "text": [
      "b'{\"name\": \"\\xe4\\xb8\\x89\\xe5\\x85\\xac\\xe4\\xbb\\x94 \\xe5\\xb0\\x8f\\xe5\\x84\\xbf\\xe4\\xb8\\x83\\xe6\\x98\\x9f\\xe8\\x8c\\xb6\\xe9\\xa2\\x97\\xe7\\xb2\\x92 7g*10\\xe8\\xa2\\x8b/\\xe7\\x9b\\x92 7\\xe7\\x9b\\x92\\xe8\\xa3\\x85 \\xe5\\x85\\x8d\\xe8\\xbf\\x90\\xe8\\xb4\\xb9\\xe3\\x80\\x9119.8\\xe5\\x85\\x83/\\xe7\\x9b\\x92\"}'\n"
     ]
    }
   ],
   "source": [
    "import json\n",
    "\n",
    "# JSON 中的乱码字符串\n",
    "json_str = '{\"name\": \"三公仔 小儿七星茶颗粒 7g*10袋/盒 7盒装 免运费】19.8元/盒\"}'       \n",
    "\n",
    "# 将 JSON 中的乱码字符串解码为 Unicode 码点\n",
    "unicode_str = json.loads(json_str)\n",
    "\n",
    "# 将 Unicode 码点编码为 UTF-8 字符串\n",
    "utf8_str2 = json.dumps(unicode_str, ensure_ascii=False).encode('utf8')\n",
    "\n",
    "print(utf8_str)"
   ]
  },
  {
   "cell_type": "code",
   "execution_count": 113,
   "id": "506f1705-1537-4df0-a06e-f6ff48086bb5",
   "metadata": {},
   "outputs": [
    {
     "data": {
      "text/plain": [
       "'{\"name\": \"三公仔 小儿七星茶颗粒 7g*10袋/盒 7盒装 免运费】19.8元/盒\"}'"
      ]
     },
     "execution_count": 113,
     "metadata": {},
     "output_type": "execute_result"
    }
   ],
   "source": [
    "# -*- coding:utf-8 -*-\n",
    "chinese_text = utf8_str.decode('utf8')\n",
    "chinese_text"
   ]
  },
  {
   "cell_type": "code",
   "execution_count": null,
   "id": "a5da8b90-7955-4b2a-aef3-16f6c61d5bb6",
   "metadata": {},
   "outputs": [],
   "source": []
  }
 ],
 "metadata": {
  "kernelspec": {
   "display_name": "anaconda-panel-2023.05-py310",
   "language": "python",
   "name": "conda-env-anaconda-panel-2023.05-py310-py"
  },
  "language_info": {
   "codemirror_mode": {
    "name": "ipython",
    "version": 3
   },
   "file_extension": ".py",
   "mimetype": "text/x-python",
   "name": "python",
   "nbconvert_exporter": "python",
   "pygments_lexer": "ipython3",
   "version": "3.11.5"
  }
 },
 "nbformat": 4,
 "nbformat_minor": 5
}
